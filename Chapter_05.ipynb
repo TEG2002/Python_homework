{
 "cells": [
  {
   "cell_type": "markdown",
   "metadata": {},
   "source": [
    "# แบบฝึกหัด บทที่ 5 ตัวแปรและประเภทข้อมูล"
   ]
  },
  {
   "cell_type": "code",
   "execution_count": 1,
   "metadata": {},
   "outputs": [
    {
     "data": {
      "text/plain": [
       "'\\nชื่อ - สกุล - รหัส\\nอภิสิทธิ์ สุนันท์ 6712732119\\n\\n'"
      ]
     },
     "execution_count": 1,
     "metadata": {},
     "output_type": "execute_result"
    }
   ],
   "source": [
    "\"\"\"\n",
    "ชื่อ - สกุล - รหัส\n",
    "อภิสิทธิ์ สุนันท์ 6712732119\n",
    "\n",
    "\"\"\""
   ]
  },
  {
   "cell_type": "markdown",
   "metadata": {},
   "source": [
    "## 1.\tประเภทของตัวเลขที่ภาษาไพธอนให้การรองรับมีอะไรบ้าง"
   ]
  },
  {
   "cell_type": "code",
   "execution_count": 4,
   "metadata": {},
   "outputs": [
    {
     "name": "stdout",
     "output_type": "stream",
     "text": [
      "<class 'int'>\n",
      "<class 'float'>\n",
      "<class 'complex'>\n",
      "<class 'bool'>\n"
     ]
    }
   ],
   "source": [
    "\"\"\"\n",
    "คำตอบ\n",
    "\"\"\"\n",
    "# Integer\n",
    "a = 10\n",
    "b = -7\n",
    "print(type(a))  # <class 'int'>\n",
    "\n",
    "# Float\n",
    "c = 3.14\n",
    "d = -5.67\n",
    "print(type(c))  # <class 'float'>\n",
    "\n",
    "# Complex\n",
    "e = 2 + 3j\n",
    "f = -4 - 2j\n",
    "print(type(e))  # <class 'complex'>\n",
    "\n",
    "# Boolean\n",
    "g = True\n",
    "h = False\n",
    "print(type(g))  # <class 'bool'>\n",
    "\n"
   ]
  },
  {
   "cell_type": "markdown",
   "metadata": {},
   "source": [
    "## 2.จงแสดงชนิดข้อมูลของตัวแปร a และ b"
   ]
  },
  {
   "cell_type": "code",
   "execution_count": null,
   "metadata": {},
   "outputs": [],
   "source": [
    "\"\"\"\n",
    "a = 15.50\n",
    "b = ‘Python’ \n",
    "จงแสดงชนิดข้อมูลของตัวแปร a และ b\n",
    "\"\"\""
   ]
  },
  {
   "cell_type": "code",
   "execution_count": 5,
   "metadata": {},
   "outputs": [
    {
     "name": "stdout",
     "output_type": "stream",
     "text": [
      "<class 'float'>\n",
      "<class 'str'>\n"
     ]
    }
   ],
   "source": [
    "\"\"\"\n",
    "คำตอบ\n",
    "\"\"\"\n",
    "a = 15.50\n",
    "b = 'Python'\n",
    "\n",
    "# แสดงชนิดข้อมูลของ a\n",
    "print(type(a))  # <class 'float'>\n",
    "\n",
    "# แสดงชนิดข้อมูลของ b\n",
    "print(type(b))  # <class 'str'>\n",
    "\n",
    "\n"
   ]
  },
  {
   "cell_type": "markdown",
   "metadata": {},
   "source": [
    "## 3.จงใช้คำสั่ง print() เพื่อแสดงสตริงต่อไปนี้\n",
    "\n",
    "- Jane's teacher says \"You have to study hard\" –"
   ]
  },
  {
   "cell_type": "code",
   "execution_count": 6,
   "metadata": {},
   "outputs": [
    {
     "name": "stdout",
     "output_type": "stream",
     "text": [
      "Jane's teacher says \"You have to study hard\"\n"
     ]
    }
   ],
   "source": [
    "\"\"\"\n",
    "คำตอบ\n",
    "\"\"\"\n",
    "print(\"Jane's teacher says \\\"You have to study hard\\\"\")\n",
    "\n"
   ]
  },
  {
   "cell_type": "markdown",
   "metadata": {},
   "source": [
    "## 4.\tจงแสดงผลลัพธ์ของคำสั่งต่อไปนี้ "
   ]
  },
  {
   "cell_type": "code",
   "execution_count": null,
   "metadata": {},
   "outputs": [],
   "source": [
    "\"\"\"\n",
    "print(\"{2} {0} {1}\".format(\"apple\", \n",
    "         \"pineapple\", \n",
    "         \"banana\"))\n",
    "\"\"\""
   ]
  },
  {
   "cell_type": "code",
   "execution_count": 7,
   "metadata": {},
   "outputs": [
    {
     "name": "stdout",
     "output_type": "stream",
     "text": [
      "apple pineapple banana\n"
     ]
    }
   ],
   "source": [
    "print(\"{0} {1} {2}\".format(\"apple\", \"pineapple\", \"banana\"))\n"
   ]
  },
  {
   "cell_type": "markdown",
   "metadata": {},
   "source": [
    "## 5. กำหนดให้ตัวแปร "
   ]
  },
  {
   "cell_type": "code",
   "execution_count": null,
   "metadata": {},
   "outputs": [],
   "source": [
    "\"\"\"\n",
    "pi = 3.141592653589\n",
    "จงแสดงค่าของตัวแปร pi ออกทางหน้าจอให้มีทศนิยมเพียง 3 จุด\n",
    "\"\"\""
   ]
  },
  {
   "cell_type": "code",
   "execution_count": 8,
   "metadata": {},
   "outputs": [
    {
     "name": "stdout",
     "output_type": "stream",
     "text": [
      "3.142\n",
      "3.142\n"
     ]
    }
   ],
   "source": [
    "\"\"\"\n",
    "คำตอบ\n",
    "\"\"\"\n",
    "pi = 3.141592653589\n",
    "print(round(pi, 3))\n",
    "pi = 3.141592653589\n",
    "print(f\"{pi:.3f}\")\n",
    "\n"
   ]
  },
  {
   "cell_type": "markdown",
   "metadata": {},
   "source": [
    "## 6.กำหนดให้ \n",
    "\n",
    "str = \"Python Programming\"\n",
    "\n",
    "จงหาผลลัพธ์ของ str[7:]\n"
   ]
  },
  {
   "cell_type": "code",
   "execution_count": 10,
   "metadata": {},
   "outputs": [
    {
     "data": {
      "text/plain": [
       "'Programming'"
      ]
     },
     "execution_count": 10,
     "metadata": {},
     "output_type": "execute_result"
    }
   ],
   "source": [
    "\"\"\"\n",
    "คำตอบ\n",
    "\"\"\"\n",
    "str[7:]  # ผลลัพธ์คือ \"Programming\"\n",
    "\n",
    "\n"
   ]
  },
  {
   "cell_type": "markdown",
   "metadata": {},
   "source": [
    "## 7.จงอธิบายความแตกต่างระหว่างลิสต์และทัพเพิล"
   ]
  },
  {
   "cell_type": "code",
   "execution_count": 17,
   "metadata": {},
   "outputs": [
    {
     "name": "stdout",
     "output_type": "stream",
     "text": [
      "หลังจากแก้ไขลิสต์: [1, 20, 3, 4]\n",
      "หลังจากเพิ่มข้อมูลในลิสต์: [1, 20, 3, 4, 5]\n",
      "หลังจากลบข้อมูลในลิสต์: [1, 20, 4, 5]\n"
     ]
    }
   ],
   "source": [
    "# ลิสต์ (List) - Mutable\n",
    "my_list = [1, 2, 3, 4]\n",
    "\n",
    "# แก้ไขข้อมูลในลิสต์\n",
    "my_list[1] = 20\n",
    "print(\"หลังจากแก้ไขลิสต์:\", my_list)  # [1, 20, 3, 4]\n",
    "\n",
    "# เพิ่มข้อมูลในลิสต์\n",
    "my_list.append(5)\n",
    "print(\"หลังจากเพิ่มข้อมูลในลิสต์:\", my_list)  # [1, 20, 3, 4, 5]\n",
    "\n",
    "# ลบข้อมูลในลิสต์\n",
    "my_list.remove(3)\n",
    "print(\"หลังจากลบข้อมูลในลิสต์:\", my_list)  # [1, 20, 4, 5]\n"
   ]
  },
  {
   "cell_type": "code",
   "execution_count": 18,
   "metadata": {},
   "outputs": [
    {
     "name": "stdout",
     "output_type": "stream",
     "text": [
      "ข้อผิดพลาดในการแก้ไขทัพเพิล: 'tuple' object does not support item assignment\n",
      "ข้อผิดพลาดในการเพิ่มข้อมูลในทัพเพิล: 'tuple' object has no attribute 'append'\n"
     ]
    }
   ],
   "source": [
    "# ทัพเพิล (Tuple) - Immutable\n",
    "my_tuple = (1, 2, 3, 4)\n",
    "\n",
    "# ลองแก้ไขข้อมูลในทัพเพิล (จะเกิดข้อผิดพลาด)\n",
    "try:\n",
    "    my_tuple[1] = 20  # TypeError: 'tuple' object does not support item assignment\n",
    "except TypeError as e:\n",
    "    print(\"ข้อผิดพลาดในการแก้ไขทัพเพิล:\", e)\n",
    "\n",
    "# ลองเพิ่มข้อมูลในทัพเพิล (จะเกิดข้อผิดพลาด)\n",
    "try:\n",
    "    my_tuple.append(5)  # AttributeError: 'tuple' object has no attribute 'append'\n",
    "except AttributeError as e:\n",
    "    print(\"ข้อผิดพลาดในการเพิ่มข้อมูลในทัพเพิล:\", e)\n"
   ]
  }
 ],
 "metadata": {
  "interpreter": {
   "hash": "40d3a090f54c6569ab1632332b64b2c03c39dcf918b08424e98f38b5ae0af88f"
  },
  "kernelspec": {
   "display_name": "Python 3 (ipykernel)",
   "language": "python",
   "name": "python3"
  },
  "language_info": {
   "codemirror_mode": {
    "name": "ipython",
    "version": 3
   },
   "file_extension": ".py",
   "mimetype": "text/x-python",
   "name": "python",
   "nbconvert_exporter": "python",
   "pygments_lexer": "ipython3",
   "version": "3.13.0"
  }
 },
 "nbformat": 4,
 "nbformat_minor": 4
}
