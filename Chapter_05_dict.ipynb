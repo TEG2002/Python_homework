{
 "cells": [
  {
   "cell_type": "markdown",
   "id": "b444a2b1-1b6d-4176-8d1f-530254acfdc5",
   "metadata": {},
   "source": [
    "# แบบฝึกหัด บทที่ 5 ตัวแปรและประเภทข้อมูล (Dictionary)"
   ]
  },
  {
   "cell_type": "raw",
   "id": "fe5ae0b4-ef63-4826-accf-7927f7336ce9",
   "metadata": {},
   "source": [
    "\"\"\"\n",
    "ชื่อ - สกุล - รหัส\n",
    "อภิสิทธิ์ สุนันท์ 6712732119\n",
    "\n",
    "\"\"\""
   ]
  },
  {
   "cell_type": "markdown",
   "id": "ee56ed63-0dad-4888-abb3-dac078c0177c",
   "metadata": {},
   "source": [
    "## 1.\tจงแปลงข้อมูลต่อไปนี้ให้เป็น Dictionary"
   ]
  },
  {
   "cell_type": "code",
   "execution_count": 3,
   "id": "94428f7b-4992-4b2f-9ee0-065385e26a1c",
   "metadata": {},
   "outputs": [
    {
     "data": {
      "text/plain": [
       "' \\n6611127320001 นาย ศักรินทร์ หาญทอง โรงเรียนวัดหลวงวิทยา\\n6611127320002 นาย ทวีพรโชค ดาวจันทร โรงเรียนนาเเก้ววิทยา\\n6611127320003 นาย ฐิราชัย พลหาญ โรงเรียนโขงเจียมวิทยาคม\\n6611127320004 นาย ชานนท์ รูปคุ้ม โรงเรียนบ้านกันทรารมย์\\n'"
      ]
     },
     "execution_count": 3,
     "metadata": {},
     "output_type": "execute_result"
    }
   ],
   "source": [
    "\"\"\" \n",
    "6611127320001 นาย ศักรินทร์ หาญทอง โรงเรียนวัดหลวงวิทยา\n",
    "6611127320002 นาย ทวีพรโชค ดาวจันทร โรงเรียนนาเเก้ววิทยา\n",
    "6611127320003 นาย ฐิราชัย พลหาญ โรงเรียนโขงเจียมวิทยาคม\n",
    "6611127320004 นาย ชานนท์ รูปคุ้ม โรงเรียนบ้านกันทรารมย์\n",
    "\"\"\""
   ]
  },
  {
   "cell_type": "code",
   "execution_count": 15,
   "id": "e1e84ee5-5a94-4245-bbeb-72aa64fd1413",
   "metadata": {},
   "outputs": [
    {
     "data": {
      "text/plain": [
       "{'name': 'นายศักรินทร์',\n",
       " 'lastname': 'หาญทอง',\n",
       " 'school': 'โรงเรียนวัดหลวงวิทยา'}"
      ]
     },
     "execution_count": 15,
     "metadata": {},
     "output_type": "execute_result"
    }
   ],
   "source": [
    "profile.get('6611127320001')\n"
   ]
  },
  {
   "cell_type": "code",
   "execution_count": 16,
   "id": "5f9934b0-3d20-4dcd-95eb-5fd8ff96c00b",
   "metadata": {},
   "outputs": [
    {
     "data": {
      "text/plain": [
       "{'name': 'นายทวีพรโชร์',\n",
       " 'lastname': 'ดาวจันทร',\n",
       " 'school': 'โรงเรียนนาเเก้ววิทยา'}"
      ]
     },
     "execution_count": 16,
     "metadata": {},
     "output_type": "execute_result"
    }
   ],
   "source": [
    "profile.get('6611127320002')\n"
   ]
  },
  {
   "cell_type": "code",
   "execution_count": 17,
   "id": "1d0fe549-4481-4897-b3e7-1783d8a84afb",
   "metadata": {},
   "outputs": [
    {
     "data": {
      "text/plain": [
       "{'name': 'นายฐิราชัย',\n",
       " 'lastname': 'พลหาญ',\n",
       " 'school': 'โรงเรียนโขงเจียมวิทยาคม'}"
      ]
     },
     "execution_count": 17,
     "metadata": {},
     "output_type": "execute_result"
    }
   ],
   "source": [
    "profile.get('6611127320003')\n"
   ]
  },
  {
   "cell_type": "code",
   "execution_count": 18,
   "id": "ab37211c-35b0-4756-a25e-c649d72bd957",
   "metadata": {},
   "outputs": [
    {
     "data": {
      "text/plain": [
       "{'name': 'นายชานนท์',\n",
       " 'lastname': 'รูปคุ้ม',\n",
       " 'school': 'โรงเรียนบ้านกันทรารมย์'}"
      ]
     },
     "execution_count": 18,
     "metadata": {},
     "output_type": "execute_result"
    }
   ],
   "source": [
    "profile.get('6611127320004')\n"
   ]
  },
  {
   "cell_type": "markdown",
   "id": "84f776e2-52c8-471d-867f-4215479ec8ff",
   "metadata": {},
   "source": [
    "## 2.จงแสดงวิธีการเข้าถึงเข้ามูลรายบุคคล"
   ]
  },
  {
   "cell_type": "code",
   "execution_count": 2,
   "id": "cbc8398d-c456-4868-972a-9977a7fd5d8a",
   "metadata": {},
   "outputs": [
    {
     "name": "stdout",
     "output_type": "stream",
     "text": [
      "ข้อมูลของนักเรียน ID 6611127320001:\n",
      "ชื่อ: นาย ศักรินทร์ หาญทอง\n",
      "โรงเรียน: โรงเรียนวัดหลวงวิทยา\n"
     ]
    }
   ],
   "source": [
    "\n",
    "# ข้อมูลใน Dictionary\n",
    "students = {\n",
    "    \"6611127320001\": {\n",
    "        \"ชื่อ\": \"นาย ศักรินทร์ หาญทอง\",\n",
    "        \"โรงเรียน\": \"โรงเรียนวัดหลวงวิทยา\"\n",
    "    },\n",
    "    \"6611127320002\": {\n",
    "        \"ชื่อ\": \"นาย ทวีพรโชค ดาวจันทร\",\n",
    "        \"โรงเรียน\": \"โรงเรียนนาเเก้ววิทยา\"\n",
    "    },\n",
    "    \"6611127320003\": {\n",
    "        \"ชื่อ\": \"นาย ฐิราชัย พลหาญ\",\n",
    "        \"โรงเรียน\": \"โรงเรียนโขงเจียมวิทยาคม\"\n",
    "    },\n",
    "    \"6611127320004\": {\n",
    "        \"ชื่อ\": \"นาย ชานนท์ รูปคุ้ม\",\n",
    "        \"โรงเรียน\": \"โรงเรียนบ้านกันทรารมย์\"\n",
    "    }\n",
    "}\n",
    "\n",
    "# การเข้าถึงข้อมูลของนักเรียนที่มี ID = \"6611127320001\"\n",
    "student_id = \"6611127320001\"\n",
    "student_info = students[student_id]\n",
    "\n",
    "# แสดงข้อมูล\n",
    "print(f\"ข้อมูลของนักเรียน ID {student_id}:\")\n",
    "print(f\"ชื่อ: {student_info['ชื่อ']}\")\n",
    "print(f\"โรงเรียน: {student_info['โรงเรียน']}\")\n",
    "\n"
   ]
  }
 ],
 "metadata": {
  "kernelspec": {
   "display_name": "Python 3 (ipykernel)",
   "language": "python",
   "name": "python3"
  },
  "language_info": {
   "codemirror_mode": {
    "name": "ipython",
    "version": 3
   },
   "file_extension": ".py",
   "mimetype": "text/x-python",
   "name": "python",
   "nbconvert_exporter": "python",
   "pygments_lexer": "ipython3",
   "version": "3.13.0"
  }
 },
 "nbformat": 4,
 "nbformat_minor": 5
}
