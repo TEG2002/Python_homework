{
 "cells": [
  {
   "cell_type": "markdown",
   "id": "4dd24539-7092-4160-bfdd-8caeb8db8d59",
   "metadata": {},
   "source": [
    "อภิสิทธิ์ สุนันท์ 6712732119"
   ]
  },
  {
   "cell_type": "code",
   "execution_count": 1,
   "id": "8b6a178e-bb5c-4f07-a04c-cbda4a318062",
   "metadata": {},
   "outputs": [
    {
     "name": "stdout",
     "output_type": "stream",
     "text": [
      "Hello,World\n"
     ]
    }
   ],
   "source": [
    "print (\"Hello,World\")"
   ]
  },
  {
   "cell_type": "code",
   "execution_count": null,
   "id": "84945c6b-d1f7-4b96-8288-d4c5ab2bf58a",
   "metadata": {},
   "outputs": [],
   "source": []
  }
 ],
 "metadata": {
  "kernelspec": {
   "display_name": "Python 3 (ipykernel)",
   "language": "python",
   "name": "python3"
  },
  "language_info": {
   "codemirror_mode": {
    "name": "ipython",
    "version": 3
   },
   "file_extension": ".py",
   "mimetype": "text/x-python",
   "name": "python",
   "nbconvert_exporter": "python",
   "pygments_lexer": "ipython3",
   "version": "3.13.0"
  }
 },
 "nbformat": 4,
 "nbformat_minor": 5
}
