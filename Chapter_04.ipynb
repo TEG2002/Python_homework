{
 "cells": [
  {
   "cell_type": "markdown",
   "metadata": {},
   "source": [
    "# แบบฝึกหัดบทที่ 4 พื้นฐานโปรแกรมไพธอน"
   ]
  },
  {
   "cell_type": "code",
   "execution_count": 1,
   "metadata": {},
   "outputs": [
    {
     "data": {
      "text/plain": [
       "' \\nชื่อ - สกุล - รหัสนักศึกษา\\n\\nอภิสิทธิ์ สุนันท์ 6712732119\\n'"
      ]
     },
     "execution_count": 1,
     "metadata": {},
     "output_type": "execute_result"
    }
   ],
   "source": [
    "\"\"\" \n",
    "ชื่อ - สกุล - รหัสนักศึกษา\n",
    "\n",
    "อภิสิทธิ์ สุนันท์ 6712732119\n",
    "\"\"\""
   ]
  },
  {
   "cell_type": "markdown",
   "metadata": {},
   "source": [
    "## 1. จงอธิบายความหมายของคำว่า Syntax"
   ]
  },
  {
   "cell_type": "markdown",
   "metadata": {},
   "source": [
    "# คำตอบ\n",
    "คำว่า Syntax (ซินแท็กซ์) ในภาษาไทยหมายถึง \"ไวยากรณ์\" หรือ \"โครงสร้างของประโยค\" ซึ่งใช้เพื่ออธิบายกฎเกณฑ์และระเบียบการจัดเรียงคำในประโยคให้ถูกต้องตามหลักไวยากรณ์ของภาษาหนึ่ง ๆ\n"
   ]
  },
  {
   "cell_type": "markdown",
   "metadata": {},
   "source": [
    "## 2.จงอธิบายความหมายของคำว่า Semantics"
   ]
  },
  {
   "cell_type": "code",
   "execution_count": 3,
   "metadata": {},
   "outputs": [],
   "source": [
    "# คำตอบ หมายถึง อรรถศาสตร์ หรือ ความหมาย ซึ่งใช้ในการศึกษาความหมายของคำหรือประโยคในภาษา ว่าคำต่างๆ หรือโครงสร้างทางไวยากรณ์นั้นๆ มีความหมายอย่างไรในบริบทต่างๆ และอย่างไรถึงจะทำให้ผู้ฟังหรือผู้อ่านเข้าใจได้ถูกต้อง\n",
    "\n"
   ]
  },
  {
   "cell_type": "markdown",
   "metadata": {},
   "source": [
    "## 3.Identifiers คืออะไร"
   ]
  },
  {
   "cell_type": "code",
   "execution_count": 4,
   "metadata": {},
   "outputs": [],
   "source": [
    "# คำตอบ หมายถึง ตัวระบุ หรือ ตัวแปรชื่อ ซึ่งใช้ในการตั้งชื่อหรือระบุสิ่งต่าง ๆ ในภาษาการเขียนโปรแกรม เช่น ตัวแปร, ฟังก์ชัน, คลาส, หรือ อ็อบเจ็กต์ เป็นต้น โดยที่ Identifiers จะช่วยให้สามารถอ้างอิงถึงข้อมูลหรือหน่วยงานต่าง ๆ ภายในโปรแกรมได้\n",
    "\n"
   ]
  },
  {
   "cell_type": "markdown",
   "metadata": {},
   "source": [
    "## 4.คำสงวนในภาษาไพธอนคืออะไร และมีทั้งหมดกี่คำ"
   ]
  },
  {
   "cell_type": "code",
   "execution_count": null,
   "metadata": {},
   "outputs": [],
   "source": [
    "# คำตอบ คำสงวน (Reserved Keywords) ในภาษาไพธอน (Python) คือ คำที่มีความหมายพิเศษ และถูกจองไว้โดยภาษานั้น ๆ เพื่อใช้เป็นคำสั่งหรือคำสำคัญในการเขียนโปรแกรม เช่น if, else, for, while เป็นต้น คำสงวนเหล่านี้ไม่สามารถนำมาใช้เป็น Identifiers (ตัวแปร, ฟังก์ชัน, ชื่อคลาส ฯลฯ) ได้ เพราะจะทำให้เกิดความขัดแย้งหรือข้อผิดพลาดในการทำงานของโปรแกรม ใน Python 3.x มี คำสงวนทั้งหมด 35 คำ (ในบางกรณีอาจมีการเปลี่ยนแปลงหรือเพิ่มคำใหม่ในเวอร์ชันถัดไป)\n",
    "\n",
    "\n"
   ]
  },
  {
   "cell_type": "markdown",
   "metadata": {},
   "source": [
    "## 5.จงเขียนโปรแกรมไพธอนเพื่อรับข้อมูล ที่เป็นชื่อผู้ใช้งานจากแป้นพิมพ์และแสดงออกทางหน้าจอ"
   ]
  },
  {
   "cell_type": "code",
   "execution_count": 5,
   "metadata": {},
   "outputs": [
    {
     "name": "stdin",
     "output_type": "stream",
     "text": [
      "your name apisit sunan\n"
     ]
    }
   ],
   "source": [
    "# พิมพ์โค้ดโปรแกรมด้านล่างนี้\n",
    "a = input(\"your name\")\n"
   ]
  },
  {
   "cell_type": "markdown",
   "metadata": {},
   "source": [
    "## 6.จงเขียนโปรแกรมเพื่อแสดงค่าของ pi คือ 3.14159 ออกทางหน้าจอโดยทำการกำหนดรูปแบบในการแสดงผลดังต่อไปนี้\n",
    "\n",
    "- pi = 3\n",
    "- pi = 3.14\n",
    "- pi = 3.1416\n"
   ]
  },
  {
   "cell_type": "code",
   "execution_count": 6,
   "metadata": {},
   "outputs": [
    {
     "name": "stdout",
     "output_type": "stream",
     "text": [
      "pi = 3\n",
      "pi = 3.14\n",
      "pi = 3.1416\n"
     ]
    }
   ],
   "source": [
    "# พิมพ์โค้ดโปรแกรมด้านล่างนี้\n",
    "# กำหนดค่า pi\n",
    "pi = 3\n",
    "print(f\"pi = {pi}\")\n",
    "\n",
    "pi = 3.14\n",
    "print(f\"pi = {pi}\")\n",
    "\n",
    "pi = 3.1416\n",
    "print(f\"pi = {pi}\")\n",
    "\n"
   ]
  },
  {
   "cell_type": "markdown",
   "metadata": {},
   "source": []
  },
  {
   "cell_type": "markdown",
   "metadata": {},
   "source": [
    "## 7.\tจงเขียนโปรแกรมที่แสดงคำว่า \"dog\", \"cat\", \"bat\" ออกทางหน้าจอ โดยกำหนดรูปแบบในการแสดงดังต่อไปนี้"
   ]
  },
  {
   "cell_type": "code",
   "execution_count": 7,
   "metadata": {},
   "outputs": [
    {
     "data": {
      "text/plain": [
       "' \\n|dog       |   cat    |       bat| \\n'"
      ]
     },
     "execution_count": 7,
     "metadata": {},
     "output_type": "execute_result"
    }
   ],
   "source": [
    "\"\"\" \n",
    "|dog       |   cat    |       bat| \n",
    "\"\"\""
   ]
  },
  {
   "cell_type": "code",
   "execution_count": 8,
   "metadata": {},
   "outputs": [
    {
     "name": "stdout",
     "output_type": "stream",
     "text": [
      "dog\n",
      "cat\n",
      "bat\n"
     ]
    }
   ],
   "source": [
    "# พิมพ์โค้ดโปรแกรมด้านล่างนี้# แสดงผลคำต่าง ๆ ทีละบรรทัด\n",
    "print(\"dog\")\n",
    "print(\"cat\")\n",
    "print(\"bat\")\n",
    "\n",
    "\n"
   ]
  },
  {
   "cell_type": "markdown",
   "metadata": {},
   "source": [
    "## 8.\tจงเขียนโปรแกรมที่แสดงคำว่า \"dog\", \"cat\", \"bat\" ออกทางหน้าจอ โดยกำหนดรูปแบบในการแสดงดังต่อไปนี้"
   ]
  },
  {
   "cell_type": "code",
   "execution_count": null,
   "metadata": {},
   "outputs": [],
   "source": [
    "\"\"\" \n",
    "|dog*******|***cat****|*******bat| \n",
    "\"\"\""
   ]
  },
  {
   "cell_type": "code",
   "execution_count": 10,
   "metadata": {},
   "outputs": [
    {
     "name": "stdout",
     "output_type": "stream",
     "text": [
      "|dog*****|**cat***|*****bat|\n"
     ]
    }
   ],
   "source": [
    "# พิมพ์โค้ดโปรแกรมด้านล่างนี้\n",
    "# กำหนดคำที่ต้องการแสดงผล\n",
    "word1 = \"dog\"\n",
    "word2 = \"cat\"\n",
    "word3 = \"bat\"\n",
    "\n",
    "# ใช้ฟังก์ชันการจัดรูปแบบข้อความเพื่อให้คำแต่ละคำมีความยาวเท่ากัน\n",
    "formatted_word1 = word1.ljust(8, '*')\n",
    "formatted_word2 = word2.center(8, '*')\n",
    "formatted_word3 = word3.rjust(8, '*')\n",
    "\n",
    "# แสดงผลตามรูปแบบที่ต้องการ\n",
    "print(f\"|{formatted_word1}|{formatted_word2}|{formatted_word3}|\")\n",
    "\n"
   ]
  }
 ],
 "metadata": {
  "interpreter": {
   "hash": "40d3a090f54c6569ab1632332b64b2c03c39dcf918b08424e98f38b5ae0af88f"
  },
  "kernelspec": {
   "display_name": "Python 3 (ipykernel)",
   "language": "python",
   "name": "python3"
  },
  "language_info": {
   "codemirror_mode": {
    "name": "ipython",
    "version": 3
   },
   "file_extension": ".py",
   "mimetype": "text/x-python",
   "name": "python",
   "nbconvert_exporter": "python",
   "pygments_lexer": "ipython3",
   "version": "3.13.0"
  }
 },
 "nbformat": 4,
 "nbformat_minor": 4
}
