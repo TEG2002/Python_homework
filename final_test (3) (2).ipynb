{
  "metadata": {
    "kernelspec": {
      "name": "python",
      "display_name": "Python (Pyodide)",
      "language": "python"
    },
    "language_info": {
      "codemirror_mode": {
        "name": "python",
        "version": 3
      },
      "file_extension": ".py",
      "mimetype": "text/x-python",
      "name": "python",
      "nbconvert_exporter": "python",
      "pygments_lexer": "ipython3",
      "version": "3.8"
    }
  },
  "nbformat_minor": 5,
  "nbformat": 4,
  "cells": [
    {
      "id": "b4cd3c02-e219-467d-adec-0d0a11d9e29e",
      "cell_type": "markdown",
      "source": "# ข้อสอบปลายภาค",
      "metadata": {}
    },
    {
      "id": "2948a9b0-c1d7-4eb5-8838-176acb70778c",
      "cell_type": "markdown",
      "source": "### รายวิชา การเขียนโปรแกรมเชิงวัตถุ ปีการ 2/2565",
      "metadata": {}
    },
    {
      "id": "52214a89-8cc2-4989-a334-22c91d155e91",
      "cell_type": "markdown",
      "source": "ชื่อ อภิสิทธิ์ นามสกุล สุนันท์ รหัสนักศึกษา 6712732119",
      "metadata": {}
    },
    {
      "id": "f52fc4e7-4075-4953-af9b-23cb0761aa42",
      "cell_type": "markdown",
      "source": "**ข้อสอบข้อที่ 1** : จงเขียนโปรแกรม เพื่อคํานวณ หาภาษีมูลค่าเพิ่มของบริการ โดยให้มีการทำงานดังนี้ คือ รับราคาบริการ จากนั้นคำนวณหาค่าบริการที่รวมภาษีมูลค่าเพิ่มแล้ว และทำการแสดงผลดังตัวอย่าง",
      "metadata": {}
    },
    {
      "id": "be29d2af-845c-4722-a958-475139cc8dda",
      "cell_type": "code",
      "source": "# ตัวอย่างการทำงาน 1\n\nEnter Service Price : 1000\n\nService Price\nPrice : 1000\nVat : 70\nTotal Price : 1070\n \nThank you.\n\n# ตัวอย่างการทำงาน 2\n\nEnter Service Price : 500\n\nService Price\nPrice : 500\nVat : 35\nTotal Price : 535\n \n\nThank you.",
      "metadata": {},
      "outputs": [],
      "execution_count": null
    },
    {
      "id": "4c3e85e3-9f1f-4034-9c92-d49f603ca6cd",
      "cell_type": "markdown",
      "source": "ข้อมูลเพิ่มเติม\n\n1) สามารถหาภาษีมูลค่าเพิ่ม (Vat) ได้จากสูตร ราคาสินค้า * ( 7  / 100 )\n2) ราคารวมภาษีมูลค่าเพิ่ม หาได้จากสูตร ราคาสินค้า + Vat ที่หาได้",
      "metadata": {}
    },
    {
      "id": "ae684192-9514-4bc3-adf4-f2527542b446",
      "cell_type": "code",
      "source": "# ฟังก์ชันคำนวณภาษีมูลค่าเพิ่ม (VAT) และราคารวมภาษี\ndef calculate_vat(service_price):\n    vat = service_price * (7 / 100)  # คำนวณภาษีมูลค่าเพิ่ม (VAT)\n    total_price = service_price + vat  # คำนวณราคารวมภาษีมูลค่าเพิ่ม\n    return vat, total_price\n\n# รับค่าราคาบริการจากผู้ใช้\nservice_price = float(input(\"Enter Service Price : \"))\n\n# คำนวณภาษีมูลค่าเพิ่มและราคารวมภาษี\nvat, total_price = calculate_vat(service_price)\n\n# แสดงผลลัพธ์\nprint(\"\\nService Price\")\nprint(f\"Price : {service_price:.2f}\")  # แสดงราคาบริการให้มีทศนิยม 2 ตำแหน่ง\nprint(f\"Vat : {vat:.2f}\")  # แสดงภาษีมูลค่าเพิ่มให้มีทศนิยม 2 ตำแหน่ง\nprint(f\"Total Price : {total_price:.2f}\")  # แสดงราคารวมภาษีให้มีทศนิยม 2 ตำแหน่ง\n\n\n\n",
      "metadata": {
        "trusted": true
      },
      "outputs": [
        {
          "ename": "<class 'TypeError'>",
          "evalue": "float() argument must be a string or a real number, not 'PyodideFuture'",
          "traceback": [
            "\u001b[0;31m---------------------------------------------------------------------------\u001b[0m",
            "\u001b[0;31mTypeError\u001b[0m                                 Traceback (most recent call last)",
            "Cell \u001b[0;32mIn[10], line 8\u001b[0m\n\u001b[1;32m      5\u001b[0m     \u001b[38;5;28;01mreturn\u001b[39;00m vat, total_price\n\u001b[1;32m      7\u001b[0m \u001b[38;5;66;03m# รับค่าราคาบริการจากผู้ใช้\u001b[39;00m\n\u001b[0;32m----> 8\u001b[0m service_price \u001b[38;5;241m=\u001b[39m \u001b[38;5;28;43mfloat\u001b[39;49m\u001b[43m(\u001b[49m\u001b[38;5;28;43minput\u001b[39;49m\u001b[43m(\u001b[49m\u001b[38;5;124;43m\"\u001b[39;49m\u001b[38;5;124;43mEnter Service Price : \u001b[39;49m\u001b[38;5;124;43m\"\u001b[39;49m\u001b[43m)\u001b[49m\u001b[43m)\u001b[49m\n\u001b[1;32m     10\u001b[0m \u001b[38;5;66;03m# คำนวณภาษีมูลค่าเพิ่มและราคารวมภาษี\u001b[39;00m\n\u001b[1;32m     11\u001b[0m vat, total_price \u001b[38;5;241m=\u001b[39m calculate_vat(service_price)\n",
            "\u001b[0;31mTypeError\u001b[0m: float() argument must be a string or a real number, not 'PyodideFuture'"
          ],
          "output_type": "error"
        },
        {
          "output_type": "stream",
          "name": "stdin",
          "text": "Enter Service Price :  1000\n"
        }
      ],
      "execution_count": 10
    },
    {
      "id": "ad7eab25-da54-49b4-8b7e-4e008c957f2c",
      "cell_type": "markdown",
      "source": "<hr>",
      "metadata": {}
    },
    {
      "id": "bf31fe17-6a86-4b14-b1a4-119e656994d3",
      "cell_type": "markdown",
      "source": "**ข้อสอบข้อที่ 2** โปรแกรมตัดเกรด\n\nจงออกแบบโปรแกรมด้วยภาษา C++ โดยให้มีการทำงานดังต่อไปนี้\n1) โปรแกรมสามารถ รับข้อมูลคะแนนของนักเรียนที่มีค่าระหว่าง 0 - 100 จำนวน 5 คน\n2) ทำการ หาเกรด จากเกณฑ์คะแนนต่อไปนี้ <br>\n    90 - 100 ได้เกรด A <br>\n    80 - 89 ได้เกรด B <br>\n    70 - 79 ได้เกรด C <br>\n    50 - 69 ได้เกรด D<br>\n    0 - 49 ได้เกรด E<br>\n3) แสดงผลข้อมูลตามรูปแบบตัวอย่าง",
      "metadata": {}
    },
    {
      "id": "b80d3f6b-86ad-40b1-8716-455c228b024e",
      "cell_type": "code",
      "source": "ตัวอย่างหน้าการแสดงผลของโปรแกรม\n\nCalculate Grade Program\nEnter Score Student 1 : 91\nEnter Score Student 2 : 81\nEnter Score Student 3 : 71\nEnter Score Student 4 : 61\nEnter Score Student 5 : 41\n\nShow Student Grade\nStudent 1 \n     Score 91 Grade A\nStudent 2 \n     Score 81 Grade B\nStudent 3 \n     Score 71 Grade C\nStudent 4 \n     Score 61 Grade D\nStudent 5 \n     Score 41 Grade F\n\nThank You...\n\nหมายเหตุ : ตัวหนังสือ สีเขียว คือ Input ตัวหนังสือ สีน้ำตาล คือ คำค่าในตัวแปร Output มาแสดง ",
      "metadata": {},
      "outputs": [],
      "execution_count": null
    },
    {
      "id": "f8e9bb53-b34a-4897-b01b-2c62e7191229",
      "cell_type": "code",
      "source": "# คำตอบ\n# ฟังก์ชันในการคำนวณเกรดตามคะแนน\ndef get_grade(score):\n    if 90 <= score <= 100:\n        return 'A'\n    elif 80 <= score < 90:\n        return 'B'\n    elif 70 <= score < 80:\n        return 'C'\n    elif 50 <= score < 70:\n        return 'D'\n    else:\n        return 'F'\n\n# รายการเก็บคะแนนและเกรดของนักเรียน\nscores = []\ngrades = []\n\n# รับคะแนนจากผู้ใช้\nfor i in range(5):\n    score = int(input(f\"\\033[32mEnter Score Student {i+1} : \\033[0m\"))  # ข้อความเป็นสีเขียว\n    if score < 0 or score > 100:\n        print(\"\\033[31mInvalid score! Please enter a score between 0 and 100.\\033[0m\")  # ข้อความเป็นสีแดง\n        continue  # ให้ลองกรอกคะแนนใหม่\n    scores.append(score)\n    grades.append(get_grade(score))\n\n# แสดงผลลัพธ์\nprint(\"\\n\\033[34mShow Student Grade\\033[0m\")  # ข้อความเป็นสีน้ำเงิน\nfor i in range(5):\n    print(f\"Student {i+1}\")\n    print(f\"     \\033[33mScore {scores[i]} Grade {grades[i]}\\033[0m\")  # ข้อความเป็นสีน้ำตาล\n\nprint(\"\\n\\033[32mThank You...\\033[0m\")  # ข้อความเป็นสีเขียว\n",
      "metadata": {
        "trusted": true
      },
      "outputs": [
        {
          "ename": "<class 'TypeError'>",
          "evalue": "int() argument must be a string, a bytes-like object or a real number, not 'PyodideFuture'",
          "traceback": [
            "\u001b[0;31m---------------------------------------------------------------------------\u001b[0m",
            "\u001b[0;31mTypeError\u001b[0m                                 Traceback (most recent call last)",
            "Cell \u001b[0;32mIn[15], line 21\u001b[0m\n\u001b[1;32m     19\u001b[0m \u001b[38;5;66;03m# รับคะแนนจากผู้ใช้\u001b[39;00m\n\u001b[1;32m     20\u001b[0m \u001b[38;5;28;01mfor\u001b[39;00m i \u001b[38;5;129;01min\u001b[39;00m \u001b[38;5;28mrange\u001b[39m(\u001b[38;5;241m5\u001b[39m):\n\u001b[0;32m---> 21\u001b[0m     score \u001b[38;5;241m=\u001b[39m \u001b[38;5;28;43mint\u001b[39;49m\u001b[43m(\u001b[49m\u001b[38;5;28;43minput\u001b[39;49m\u001b[43m(\u001b[49m\u001b[38;5;124;43mf\u001b[39;49m\u001b[38;5;124;43m\"\u001b[39;49m\u001b[38;5;130;43;01m\\033\u001b[39;49;00m\u001b[38;5;124;43m[32mEnter Score Student \u001b[39;49m\u001b[38;5;132;43;01m{\u001b[39;49;00m\u001b[43mi\u001b[49m\u001b[38;5;241;43m+\u001b[39;49m\u001b[38;5;241;43m1\u001b[39;49m\u001b[38;5;132;43;01m}\u001b[39;49;00m\u001b[38;5;124;43m : \u001b[39;49m\u001b[38;5;130;43;01m\\033\u001b[39;49;00m\u001b[38;5;124;43m[0m\u001b[39;49m\u001b[38;5;124;43m\"\u001b[39;49m\u001b[43m)\u001b[49m\u001b[43m)\u001b[49m  \u001b[38;5;66;03m# ข้อความเป็นสีเขียว\u001b[39;00m\n\u001b[1;32m     22\u001b[0m     \u001b[38;5;28;01mif\u001b[39;00m score \u001b[38;5;241m<\u001b[39m \u001b[38;5;241m0\u001b[39m \u001b[38;5;129;01mor\u001b[39;00m score \u001b[38;5;241m>\u001b[39m \u001b[38;5;241m100\u001b[39m:\n\u001b[1;32m     23\u001b[0m         \u001b[38;5;28mprint\u001b[39m(\u001b[38;5;124m\"\u001b[39m\u001b[38;5;130;01m\\033\u001b[39;00m\u001b[38;5;124m[31mInvalid score! Please enter a score between 0 and 100.\u001b[39m\u001b[38;5;130;01m\\033\u001b[39;00m\u001b[38;5;124m[0m\u001b[39m\u001b[38;5;124m\"\u001b[39m)  \u001b[38;5;66;03m# ข้อความเป็นสีแดง\u001b[39;00m\n",
            "\u001b[0;31mTypeError\u001b[0m: int() argument must be a string, a bytes-like object or a real number, not 'PyodideFuture'"
          ],
          "output_type": "error"
        },
        {
          "output_type": "stream",
          "name": "stdin",
          "text": "\u001b[32mEnter Score Student 1 : \u001b[0m 91\n"
        }
      ],
      "execution_count": 15
    },
    {
      "id": "1e60345a-875c-460a-87d1-7659462f3919",
      "cell_type": "markdown",
      "source": "<hr>",
      "metadata": {}
    },
    {
      "id": "7fd2caaa-e462-4ff5-ad81-dc761fc31caa",
      "cell_type": "markdown",
      "source": "**ข้อสอบข้อที่ 3** โปรแกรมคำนวนค่าเรียนพิเศษ\n\nจงเขียนโปรแกรมคำนวณค่าเรียนพิเศษของ ติวเตอร์คณิตศาสตร์ แห่งหนึ่ง โดย ติวเตอร์แห่งนี้ คิดค่าเรียนเป็นรายชั่วโมง \n\nชั่วโมงละ 450 บาท และจ่ายเป็นแบบครั้งต่อครั้ง \n\nโดยให้โปรแกรมมีการรับค่าจำนวนช่วงโมงที่สอน และมีรูปแบบการทำงานและแสดงผลตามตัวอย่างต่อไปนี้",
      "metadata": {}
    },
    {
      "id": "eb75bb60-28d2-4d8a-a9d1-d25cf474a081",
      "cell_type": "raw",
      "source": "ตัวอย่างการทำงาน ครั้งที่ 1\n\nRUN : ทดสอบด้วยการป้อนจำนวนชั่วโมงที่เรียนเป็น 5 ชั่วโมง\n\nEnter Hour : 5\nTotal : 2250\n\nตัวอย่างการทำงาน ครั้งที่ 2\n\nRUN : ทดสอบด้วยการป้อนจำนวนชั่วโมงที่เรียนเป็น 1 ชั่วโมง\n\nEnter Hour : 1\nTotal : 450",
      "metadata": {}
    },
    {
      "id": "e4cf0da4-4b79-45e9-887b-3ddeef89a876",
      "cell_type": "code",
      "source": "# คำตอบ\n# ค่าบริการเรียนพิเศษต่อชั่วโมง\nhourly_rate = 450\n\n# ตัวอย่างที่ 1: รับจำนวนชั่วโมงที่ติวเตอร์สอน\nprint(\"RUN : ทดสอบด้วยการป้อนจำนวนชั่วโมงที่เรียนเป็น 5 ชั่วโมง\")\nhours = 5\ntotal_fee = hourly_rate * hours\nprint(f\"\\nEnter Hour : {hours}\")\nprint(f\"Total : {total_fee}\")\n\n# ตัวอย่างที่ 2: รับจำนวนชั่วโมงที่ติวเตอร์สอน\nprint(\"\\nRUN : ทดสอบด้วยการป้อนจำนวนชั่วโมงที่เรียนเป็น 1 ชั่วโมง\")\nhours = 1\ntotal_fee = hourly_rate * hours\nprint(f\"\\nEnter Hour : {hours}\")\nprint(f\"Total : {total_fee}\")\n\n\n",
      "metadata": {
        "trusted": true
      },
      "outputs": [
        {
          "name": "stdout",
          "output_type": "stream",
          "text": "RUN : ทดสอบด้วยการป้อนจำนวนชั่วโมงที่เรียนเป็น 5 ชั่วโมง\n\nEnter Hour : 5\nTotal : 2250\n\nRUN : ทดสอบด้วยการป้อนจำนวนชั่วโมงที่เรียนเป็น 1 ชั่วโมง\n\nEnter Hour : 1\nTotal : 450\n"
        }
      ],
      "execution_count": 16
    },
    {
      "id": "7380cd6f-cdfd-4373-a313-f1d548c90893",
      "cell_type": "markdown",
      "source": "<hr>",
      "metadata": {}
    },
    {
      "id": "dcb8bdbc-a331-4168-a1bf-eb22df35f774",
      "cell_type": "markdown",
      "source": "**ข้อให้ทุกคนโชคดีในการสอบ**<br>\nผู้ช่วยศาสตราจารย์พิศาล สุขขี<br>\nสาขาวิทยาการคอมพิวเตอร์<br>\nมหาวิทยาลัยราชภัฏศรีสะเกษ",
      "metadata": {}
    },
    {
      "id": "ec9541b1-39c7-43bb-be34-acbd738293fd",
      "cell_type": "code",
      "source": "",
      "metadata": {},
      "outputs": [],
      "execution_count": null
    }
  ]
}